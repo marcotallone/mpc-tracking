{
 "cells": [
  {
   "cell_type": "code",
   "execution_count": 1,
   "metadata": {},
   "outputs": [],
   "source": [
    "import numpy as np\n",
    "import pandas as pd\n",
    "import matplotlib.pyplot as plt\n",
    "import seaborn as sns"
   ]
  },
  {
   "cell_type": "markdown",
   "metadata": {},
   "source": [
    "#### Normal MPC"
   ]
  },
  {
   "cell_type": "code",
   "execution_count": null,
   "metadata": {},
   "outputs": [],
   "source": [
    "FILE_UNICYCLE = 'unicycle_results.csv'\n",
    "FILE_HELICOPTER = 'helicopter_results.csv'\n",
    "\n",
    "# import with pandas\n",
    "df_unicycle = pd.read_csv(FILE_UNICYCLE)\n",
    "df_helicopter = pd.read_csv(FILE_HELICOPTER)"
   ]
  },
  {
   "cell_type": "code",
   "execution_count": 3,
   "metadata": {},
   "outputs": [
    {
     "name": "stdout",
     "output_type": "stream",
     "text": [
      "\n",
      "Unicycle Circle\n",
      "State RMSE: 0.0199 +/- 0.0072\n",
      "Input RMSE: 0.2265 +/- 0.0675\n",
      "\n",
      "Unicycle Leminscate\n",
      "State RMSE: 0.0298 +/- 0.0020\n",
      "Input RMSE: 0.8573 +/- 0.0230\n",
      "\n",
      "Helicopter Circle\n",
      "State RMSE: 0.0335 +/- 0.0126\n",
      "Input RMSE: 0.0962 +/- 0.0113\n",
      "\n",
      "Helicopter Leminscate\n",
      "State RMSE: 0.6863 +/- 0.0012\n",
      "Input RMSE: 0.3019 +/- 0.0071\n"
     ]
    }
   ],
   "source": [
    "# Unicycle Analysis\n",
    "\n",
    "# Circle\n",
    "df_unicycle_circle = df_unicycle[df_unicycle['shape'] == 'circle']\n",
    "state_rmse = np.sqrt(df_unicycle_circle['state_mse'])\n",
    "input_rmse = np.sqrt(df_unicycle_circle['input_mse'])\n",
    "mean_state_rmse = state_rmse.mean()\n",
    "mean_input_rmse = input_rmse.mean()\n",
    "std_state_rmse = state_rmse.std()\n",
    "std_input_rmse = input_rmse.std()\n",
    "print('\\nUnicycle Circle')\n",
    "print('State RMSE: {:.4f} +/- {:.4f}'.format(mean_state_rmse, std_state_rmse))\n",
    "print('Input RMSE: {:.4f} +/- {:.4f}'.format(mean_input_rmse, std_input_rmse))\n",
    "\n",
    "# Leminiscate\n",
    "df_unicycle_leminscate = df_unicycle[df_unicycle['shape'] == 'leminscate']\n",
    "state_rmse = np.sqrt(df_unicycle_leminscate['state_mse'])\n",
    "input_rmse = np.sqrt(df_unicycle_leminscate['input_mse'])\n",
    "mean_state_rmse = state_rmse.mean()\n",
    "mean_input_rmse = input_rmse.mean()\n",
    "std_state_rmse = state_rmse.std()\n",
    "std_input_rmse = input_rmse.std()\n",
    "print('\\nUnicycle Leminscate')\n",
    "print('State RMSE: {:.4f} +/- {:.4f}'.format(mean_state_rmse, std_state_rmse))\n",
    "print('Input RMSE: {:.4f} +/- {:.4f}'.format(mean_input_rmse, std_input_rmse))\n",
    "\n",
    "\n",
    "# Helicopter Analysis\n",
    "\n",
    "# Circle\n",
    "df_helicopter_circle = df_helicopter[df_helicopter['shape'] == 'circle']\n",
    "state_rmse = np.sqrt(df_helicopter_circle['state_mse'])\n",
    "input_rmse = np.sqrt(df_helicopter_circle['input_mse'])\n",
    "mean_state_rmse = state_rmse.mean()\n",
    "mean_input_rmse = input_rmse.mean()\n",
    "std_state_rmse = state_rmse.std()\n",
    "std_input_rmse = input_rmse.std()\n",
    "print('\\nHelicopter Circle')\n",
    "print('State RMSE: {:.4f} +/- {:.4f}'.format(mean_state_rmse, std_state_rmse))\n",
    "print('Input RMSE: {:.4f} +/- {:.4f}'.format(mean_input_rmse, std_input_rmse))\n",
    "\n",
    "# Leminiscate\n",
    "df_helicopter_leminscate = df_helicopter[df_helicopter['shape'] == 'leminscate']\n",
    "state_rmse = np.sqrt(df_helicopter_leminscate['state_mse'])\n",
    "input_rmse = np.sqrt(df_helicopter_leminscate['input_mse'])\n",
    "mean_state_rmse = state_rmse.mean()\n",
    "mean_input_rmse = input_rmse.mean()\n",
    "std_state_rmse = state_rmse.std()\n",
    "std_input_rmse = input_rmse.std()\n",
    "print('\\nHelicopter Leminscate')\n",
    "print('State RMSE: {:.4f} +/- {:.4f}'.format(mean_state_rmse, std_state_rmse))\n",
    "print('Input RMSE: {:.4f} +/- {:.4f}'.format(mean_input_rmse, std_input_rmse))\n"
   ]
  },
  {
   "cell_type": "markdown",
   "metadata": {},
   "source": [
    "#### Kalman MPC"
   ]
  },
  {
   "cell_type": "code",
   "execution_count": 4,
   "metadata": {},
   "outputs": [],
   "source": [
    "FILE_UNICYCLE = 'unicycle_kalman_results.csv'\n",
    "FILE_HELICOPTER = 'helicopter_kalman_results.csv'\n",
    "\n",
    "# import with pandas\n",
    "df_unicycle = pd.read_csv(FILE_UNICYCLE)\n",
    "df_helicopter = pd.read_csv(FILE_HELICOPTER)"
   ]
  },
  {
   "cell_type": "code",
   "execution_count": 5,
   "metadata": {},
   "outputs": [
    {
     "name": "stdout",
     "output_type": "stream",
     "text": [
      "\n",
      "Unicycle Circle\n",
      "State RMSE: 0.0562 +/- 0.0152\n",
      "Input RMSE: 0.6342 +/- 0.1898\n",
      "\n",
      "Unicycle Leminscate\n",
      "State RMSE: 0.2042 +/- 0.2507\n",
      "Input RMSE: 1.0369 +/- 0.1065\n",
      "\n",
      "Helicopter Circle\n",
      "State RMSE: 1.0734 +/- 0.3290\n",
      "Input RMSE: 0.2153 +/- 0.0252\n",
      "\n",
      "Helicopter Leminscate\n",
      "State RMSE: 1.1689 +/- 0.2066\n",
      "Input RMSE: 0.5692 +/- 0.0709\n"
     ]
    }
   ],
   "source": [
    "# Unicycle Analysis\n",
    "\n",
    "# Circle\n",
    "df_unicycle_circle = df_unicycle[df_unicycle['shape'] == 'circle']\n",
    "state_rmse = np.sqrt(df_unicycle_circle['state_mse'])\n",
    "input_rmse = np.sqrt(df_unicycle_circle['input_mse'])\n",
    "mean_state_rmse = state_rmse.mean()\n",
    "mean_input_rmse = input_rmse.mean()\n",
    "std_state_rmse = state_rmse.std()\n",
    "std_input_rmse = input_rmse.std()\n",
    "print('\\nUnicycle Circle')\n",
    "print('State RMSE: {:.4f} +/- {:.4f}'.format(mean_state_rmse, std_state_rmse))\n",
    "print('Input RMSE: {:.4f} +/- {:.4f}'.format(mean_input_rmse, std_input_rmse))\n",
    "\n",
    "# Leminiscate\n",
    "df_unicycle_leminscate = df_unicycle[df_unicycle['shape'] == 'leminscate']\n",
    "state_rmse = np.sqrt(df_unicycle_leminscate['state_mse'])\n",
    "input_rmse = np.sqrt(df_unicycle_leminscate['input_mse'])\n",
    "mean_state_rmse = state_rmse.mean()\n",
    "mean_input_rmse = input_rmse.mean()\n",
    "std_state_rmse = state_rmse.std()\n",
    "std_input_rmse = input_rmse.std()\n",
    "print('\\nUnicycle Leminscate')\n",
    "print('State RMSE: {:.4f} +/- {:.4f}'.format(mean_state_rmse, std_state_rmse))\n",
    "print('Input RMSE: {:.4f} +/- {:.4f}'.format(mean_input_rmse, std_input_rmse))\n",
    "\n",
    "\n",
    "# Helicopter Analysis\n",
    "\n",
    "# Circle\n",
    "df_helicopter_circle = df_helicopter[df_helicopter['shape'] == 'circle']\n",
    "state_rmse = np.sqrt(df_helicopter_circle['state_mse'])\n",
    "input_rmse = np.sqrt(df_helicopter_circle['input_mse'])\n",
    "mean_state_rmse = state_rmse.mean()\n",
    "mean_input_rmse = input_rmse.mean()\n",
    "std_state_rmse = state_rmse.std()\n",
    "std_input_rmse = input_rmse.std()\n",
    "print('\\nHelicopter Circle')\n",
    "print('State RMSE: {:.4f} +/- {:.4f}'.format(mean_state_rmse, std_state_rmse))\n",
    "print('Input RMSE: {:.4f} +/- {:.4f}'.format(mean_input_rmse, std_input_rmse))\n",
    "\n",
    "# Leminiscate\n",
    "df_helicopter_leminscate = df_helicopter[df_helicopter['shape'] == 'leminscate']\n",
    "state_rmse = np.sqrt(df_helicopter_leminscate['state_mse'])\n",
    "input_rmse = np.sqrt(df_helicopter_leminscate['input_mse'])\n",
    "mean_state_rmse = state_rmse.mean()\n",
    "mean_input_rmse = input_rmse.mean()\n",
    "std_state_rmse = state_rmse.std()\n",
    "std_input_rmse = input_rmse.std()\n",
    "print('\\nHelicopter Leminscate')\n",
    "print('State RMSE: {:.4f} +/- {:.4f}'.format(mean_state_rmse, std_state_rmse))\n",
    "print('Input RMSE: {:.4f} +/- {:.4f}'.format(mean_input_rmse, std_input_rmse))"
   ]
  }
 ],
 "metadata": {
  "kernelspec": {
   "display_name": "cv",
   "language": "python",
   "name": "python3"
  },
  "language_info": {
   "codemirror_mode": {
    "name": "ipython",
    "version": 3
   },
   "file_extension": ".py",
   "mimetype": "text/x-python",
   "name": "python",
   "nbconvert_exporter": "python",
   "pygments_lexer": "ipython3",
   "version": "3.12.3"
  }
 },
 "nbformat": 4,
 "nbformat_minor": 2
}
